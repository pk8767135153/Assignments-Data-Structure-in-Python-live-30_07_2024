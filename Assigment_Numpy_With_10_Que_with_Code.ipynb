{
 "cells": [
  {
   "cell_type": "markdown",
   "id": "8347d5f3-e111-4750-aeb7-9937ce2ef150",
   "metadata": {
    "tags": []
   },
   "source": [
    "# NumPy Assigment "
   ]
  },
  {
   "cell_type": "code",
   "execution_count": 6,
   "id": "abc69ff6-d2c7-48a9-9f83-85138983b055",
   "metadata": {},
   "outputs": [],
   "source": [
    "import numpy as np"
   ]
  },
  {
   "cell_type": "code",
   "execution_count": 7,
   "id": "ab16ed07-c2c4-4360-a3f1-fda8e9002ac8",
   "metadata": {},
   "outputs": [
    {
     "name": "stdout",
     "output_type": "stream",
     "text": [
      " NumPy Array :\n",
      "\n",
      " [[77 74 59]\n",
      " [11 53 53]\n",
      " [41 86 75]] \n",
      " Dimeansion Of Array :2 \n",
      " Shape Of Array : (3, 3)\n",
      " Inter_Change Of Row and Columns :\n",
      "[[77 11 41]\n",
      " [74 53 86]\n",
      " [59 53 75]]\n"
     ]
    }
   ],
   "source": [
    "# 1. Create a 3x3 NumPy array with random integers between 1 and 100. Then, interchange its rows and columns\n",
    "\n",
    "i = [i for i in range(1,100)]\n",
    "arr  = np.random.choice(i,[3,3])\n",
    "print(f\" NumPy Array :\\n\\n {arr} \\n Dimeansion Of Array :{arr.ndim} \\n Shape Of Array : {arr.shape}\\n Inter_Change Of Row and Columns :\\n{arr.T}\")\n"
   ]
  },
  {
   "cell_type": "code",
   "execution_count": 77,
   "id": "2edc3225-631f-4892-99ae-a512143da674",
   "metadata": {},
   "outputs": [
    {
     "data": {
      "text/plain": [
       "array([[37, 27, 71],\n",
       "       [74, 66, 96],\n",
       "       [71, 43, 77]])"
      ]
     },
     "execution_count": 77,
     "metadata": {},
     "output_type": "execute_result"
    }
   ],
   "source": [
    "# 1. Create a 3x3 NumPy array with random integers between 1 and 100. Then, interchange its rows and columns\n",
    "\n",
    "arr1 = np.random.randint(1,100,(3,3))\n",
    "arr1"
   ]
  },
  {
   "cell_type": "code",
   "execution_count": 8,
   "id": "77072888-e261-4048-bd68-dbeb7f3d5ebe",
   "metadata": {},
   "outputs": [
    {
     "name": "stdout",
     "output_type": "stream",
     "text": [
      "Array : [ 1  2  3  4  5  6  7  8  9 10] \n",
      " Rows 2 and Columns 5 :\n",
      " [[ 1  2  3  4  5]\n",
      " [ 6  7  8  9 10]] \n",
      " Shape Of The Array : (2, 5)\n",
      " Rows 5 and Columns 2 :\n",
      " [[ 1  2]\n",
      " [ 3  4]\n",
      " [ 5  6]\n",
      " [ 7  8]\n",
      " [ 9 10]]\n",
      "Shape Of The Array (2, 5)\n"
     ]
    }
   ],
   "source": [
    " # 2. Generate a 1D NumPy array with 10 elements. Reshape it into a 2x5 array, then into a 5x2 array.\n",
    "\n",
    "# Generate The Array \n",
    "arr = np.arange(1,11)\n",
    "\n",
    "print(f\"Array : {arr} \")\n",
    "print(f\" Rows 2 and Columns 5 :\\n {arr.reshape(2,5)} \\n Shape Of The Array : {arr.reshape(2,5).shape}\")\n",
    "print(f\" Rows 5 and Columns 2 :\\n {arr.reshape(5,2)}\\nShape Of The Array {arr.reshape(2,5).shape}\")\n"
   ]
  },
  {
   "cell_type": "code",
   "execution_count": 35,
   "id": "d94eec8d-5d48-4c1c-a28a-f261fdf87856",
   "metadata": {},
   "outputs": [
    {
     "name": "stdout",
     "output_type": "stream",
     "text": [
      "4x4 Array with random float values:\n",
      " [[0.95572721 0.51237279 0.98836701 0.78695307]\n",
      " [0.11088076 0.10456967 0.61044107 0.80153499]\n",
      " [0.22958809 0.46090742 0.12970535 0.75102866]\n",
      " [0.73978746 0.6015395  0.11955167 0.89584201]]\n",
      "\n",
      "6x6 Array with a border of zeros:\n",
      " [[0.         0.         0.         0.         0.         0.        ]\n",
      " [0.         0.95572721 0.51237279 0.98836701 0.78695307 0.        ]\n",
      " [0.         0.11088076 0.10456967 0.61044107 0.80153499 0.        ]\n",
      " [0.         0.22958809 0.46090742 0.12970535 0.75102866 0.        ]\n",
      " [0.         0.73978746 0.6015395  0.11955167 0.89584201 0.        ]\n",
      " [0.         0.         0.         0.         0.         0.        ]]\n"
     ]
    }
   ],
   "source": [
    "# 3. Create a 4x4 NumPy array with random float values. Add a border of zeros around it, resulting in a 6x6 array\n",
    "import numpy as np\n",
    "\n",
    "# Create a 4x4 array with random float values\n",
    "array_4x4 = np.random.rand(4, 4)\n",
    "\n",
    "# Add a border of zeros around the 4x4 array to make it 6x6\n",
    "array_6x6 = np.pad(array_4x4, pad_width=1,constant_values=0)\n",
    "\n",
    "print(\"4x4 Array with random float values:\\n\", array_4x4)\n",
    "print(\"\\n6x6 Array with a border of zeros:\\n\", array_6x6)\n",
    "\n"
   ]
  },
  {
   "cell_type": "code",
   "execution_count": 9,
   "id": "63677221-4f2d-44af-947b-dcb02ae80065",
   "metadata": {},
   "outputs": [
    {
     "data": {
      "text/plain": [
       "array([10, 15, 20, 25, 30, 35, 40, 45, 50, 55])"
      ]
     },
     "execution_count": 9,
     "metadata": {},
     "output_type": "execute_result"
    }
   ],
   "source": [
    " # 4. Using NumPy, create an array of integers from 10 to 60 with a step of 5\n",
    "\n",
    "# Here 10 is included and 60 is excluded\n",
    "arr = np.arange(10,60,5)\n",
    "arr"
   ]
  },
  {
   "cell_type": "code",
   "execution_count": 10,
   "id": "ae45fed6-efcc-4bfc-aabb-58d54c41dcc3",
   "metadata": {},
   "outputs": [
    {
     "name": "stdout",
     "output_type": "stream",
     "text": [
      "Original Arr ['python' 'numpy' 'pandas']\n",
      "Upper Case : ['PYTHON' 'NUMPY' 'PANDAS']\n",
      "Lower Case :['python' 'numpy' 'pandas']  \n",
      "Title Case : ['Python' 'Numpy' 'Pandas'] \n",
      "Capitalize Case : ['Python' 'Numpy' 'Pandas']\n",
      "Sorted Array : ['numpy' 'pandas' 'python']\n"
     ]
    }
   ],
   "source": [
    "# 5. Create a NumPy array of strings ['python', 'numpy', 'pandas']. Apply different case transformations \n",
    "# (uppercase, lowercase, title case, etc.) to each element.\n",
    "\n",
    "arr = np.array(['python', 'numpy', 'pandas'])\n",
    "\n",
    "u = np.char.upper(arr)\n",
    "l = np.char.lower(arr)\n",
    "t = np.char.title(arr)\n",
    "c = np.char.capitalize(arr)\n",
    "s = np.sort(arr)\n",
    "\n",
    "print(f\"Original Arr {arr}\\nUpper Case : {u}\\nLower Case :{l}  \\nTitle Case : {t} \\nCapitalize Case : {c}\\nSorted Array : {s}\")"
   ]
  },
  {
   "cell_type": "code",
   "execution_count": 38,
   "id": "a531d8c8-45aa-4741-ad9d-a3020a818359",
   "metadata": {},
   "outputs": [
    {
     "name": "stdout",
     "output_type": "stream",
     "text": [
      "Original words: ['hello' 'world' 'numpy' 'array' 'example']\n",
      "Spaced words: ['h e l l o' 'w o r l d' 'n u m p y' 'a r r a y' 'e x a m p l e']\n"
     ]
    }
   ],
   "source": [
    "# 6. Generate a NumPy array of words. Insert a space between each character of every word in the array.\n",
    "\n",
    "# Generate a NumPy array of words\n",
    "words = np.array([\"hello\", \"world\", \"numpy\", \"array\", \"example\"])\n",
    "\n",
    "# Insert a space between each character of every word\n",
    "spaced_words = np.array([' '.join(word) for word in words])\n",
    "\n",
    "print(\"Original words:\", words)\n",
    "print(\"Spaced words:\", spaced_words)\n",
    "\n"
   ]
  },
  {
   "cell_type": "code",
   "execution_count": 39,
   "id": "8f8e897b-fccd-46b7-9ae9-19695a6bc412",
   "metadata": {},
   "outputs": [
    {
     "name": "stdout",
     "output_type": "stream",
     "text": [
      "Addition : \n",
      " [[ 6  8]\n",
      " [10 12]]\n",
      "Substraction : \n",
      " [[4 4]\n",
      " [4 4]]\n",
      "Multiplication : \n",
      " [[ 5 12]\n",
      " [21 32]]\n",
      "Division : \n",
      " [[0.2        0.33333333]\n",
      " [0.42857143 0.5       ]]\n"
     ]
    }
   ],
   "source": [
    " # 7. Create two 2D NumPy arrays and perform element-wise addition, subtraction, multiplication, and division First Array \n",
    "arr1 = np.array([[1,2,],[3,4]])\n",
    "arr2 = np.array([[5,6],[7,8]])\n",
    "\n",
    "print(f\"Addition : \\n\",np.add(arr1,arr2))\n",
    "print(f\"Substraction : \\n\",np.subtract(arr2,arr1))\n",
    "print(f\"Multiplication : \\n\",np.multiply(arr1,arr2))\n",
    "print(f\"Division : \\n\",arr1/arr2)"
   ]
  },
  {
   "cell_type": "code",
   "execution_count": 40,
   "id": "59e57e31-1c91-4f58-8e3d-acce2072b772",
   "metadata": {},
   "outputs": [
    {
     "name": "stdout",
     "output_type": "stream",
     "text": [
      "[[11  2  3]\n",
      " [ 4  5  6]\n",
      " [ 7  8  9]]\n"
     ]
    },
    {
     "data": {
      "text/plain": [
       "25"
      ]
     },
     "execution_count": 40,
     "metadata": {},
     "output_type": "execute_result"
    }
   ],
   "source": [
    "# 8. Use NumPy to create a 5x5 identity matrix, then extract its diagonal elements\n",
    "import numpy as np\n",
    "identity_array_diff_no_row_columns = np.eye(2,3)\n",
    "indentiy_array_same_no_row_columns = np.identity(5)\n",
    "                                              # Sum Of the diagonal elements\n",
    "# numpy.trace(a, offset=0, axis1=0, axis2=1, dtype=None, out=None)\n",
    "\n",
    "matrix = np.matrix('[11,2,3;4,5,6;7,8,9]')\n",
    "print(matrix)\n",
    "np.trace(matrix)\n"
   ]
  },
  {
   "cell_type": "code",
   "execution_count": 36,
   "id": "ed4180ce-54f1-4407-9c40-be6f80368b9c",
   "metadata": {},
   "outputs": [
    {
     "name": "stdout",
     "output_type": "stream",
     "text": [
      "Random integers: [312 400 928 462  30 913 280 940 791 132 104 762 740 979 546 352 661 593\n",
      " 225 496 672  12 242 264 786 887 811 593 445 446 674 835 542 587 762 131\n",
      " 623 890 979 362 755 506 362 949 529 485 486 323 303 570  92 744 221 674\n",
      " 626 700 463 781 709 271  60  85 485 236 141 990  36 373 498 530 616 440\n",
      " 454 587 622 723 612 847 429  99 717 111 236 791 787 921 713 546 793 856\n",
      "   2 994 766 457 361 790 327 745 364 108]\n",
      "Prime numbers: [661, 593, 887, 811, 593, 587, 131, 463, 709, 271, 373, 587, 787, 2, 457]\n"
     ]
    }
   ],
   "source": [
    "# 9. Generate a NumPy array of 100 random integers between 0 and 1000. Find and display all prime numbers in this array.\n",
    "# Generate a NumPy array of 100 random integers between 0 and 1000\n",
    "random_integers = np.random.randint(0, 1000, 100)\n",
    "\n",
    "# Function to check if a number is prime\n",
    "def is_prime(n):\n",
    "    if n <= 1:\n",
    "        return False\n",
    "    for i in range(2, int(n**0.5) + 1):\n",
    "        if n % i == 0:\n",
    "            return False\n",
    "    return True\n",
    "\n",
    "# Find all prime numbers in the array\n",
    "prime_numbers = [num for num in random_integers if is_prime(num)]\n",
    "\n",
    "print(\"Random integers:\", random_integers)\n",
    "print(\"Prime numbers:\", prime_numbers)\n"
   ]
  },
  {
   "cell_type": "code",
   "execution_count": null,
   "id": "916b4ab5-5777-43f8-ad24-f13d3cdc21f3",
   "metadata": {},
   "outputs": [],
   "source": [
    "# 10. Create a NumPy array representing daily temperatures for a month. Calculate and display the weekly averages\n",
    "\n",
    "# Generate a NumPy array of daily temperatures for a month (30 days)\n",
    "daily_temperatures = np.random.randint(20, 40, 30)  # Example temperatures between 20°C and 40°C\n",
    "\n",
    "# Calculate weekly averages\n",
    "weekly_averages = [np.mean(daily_temperatures[i:i+7]) for i in range(0, len(daily_temperatures), 7)]\n",
    "\n",
    "print(\"Daily temperatures:\", daily_temperatures)\n",
    "print(\"Weekly averages:\", weekly_averages) "
   ]
  }
 ],
 "metadata": {
  "kernelspec": {
   "display_name": "Python 3 (ipykernel)",
   "language": "python",
   "name": "python3"
  },
  "language_info": {
   "codemirror_mode": {
    "name": "ipython",
    "version": 3
   },
   "file_extension": ".py",
   "mimetype": "text/x-python",
   "name": "python",
   "nbconvert_exporter": "python",
   "pygments_lexer": "ipython3",
   "version": "3.10.8"
  },
  "widgets": {
   "application/vnd.jupyter.widget-state+json": {
    "state": {},
    "version_major": 2,
    "version_minor": 0
   }
  }
 },
 "nbformat": 4,
 "nbformat_minor": 5
}
