{
 "cells": [
  {
   "cell_type": "markdown",
   "metadata": {},
   "source": [
    "## Pravinsingh Arun Korekar \n",
    "## Assignments = Data Structure in Python live\n",
    "## Course : Data Science With Generative AI\n",
    "## Mail : pravinkorekar6@gmail.com\n",
    "## Contact Number : 8767135153"
   ]
  },
  {
   "cell_type": "markdown",
   "metadata": {},
   "source": [
    "### 1. Write a code to reverse a string"
   ]
  },
  {
   "cell_type": "code",
   "execution_count": 10,
   "metadata": {},
   "outputs": [
    {
     "name": "stdout",
     "output_type": "stream",
     "text": [
      "Give String : Pravin\n",
      "Reverse String : nivarP\n"
     ]
    }
   ],
   "source": [
    "#  Using String Sclining.\n",
    "string = \"Pravin\"\n",
    "print(\"Give String : \"+string[:])\n",
    "print(\"Reverse String : \"+string[len(string)::-1])"
   ]
  },
  {
   "cell_type": "code",
   "execution_count": 11,
   "metadata": {},
   "outputs": [
    {
     "name": "stdout",
     "output_type": "stream",
     "text": [
      "reverse String :  nivarP\n"
     ]
    }
   ],
   "source": [
    "# Using reversed method:\n",
    "string = \"Pravin\"\n",
    "print(\"reverse String : \",\"\".join(reversed(string)))"
   ]
  },
  {
   "cell_type": "markdown",
   "metadata": {},
   "source": [
    "### 2. Write a code to count the vowels in a string."
   ]
  },
  {
   "cell_type": "code",
   "execution_count": 12,
   "metadata": {},
   "outputs": [
    {
     "name": "stdout",
     "output_type": "stream",
     "text": [
      "Number of vowels in given string is 2\n"
     ]
    }
   ],
   "source": [
    "count = 0\n",
    "string = \"Pravin\"\n",
    "for i in range(0,len(string)):\n",
    "    if string[i] in \"aeiouAEIOU\":\n",
    "        count +=1\n",
    "print(f\"Number of vowels in given string is {count}\")"
   ]
  },
  {
   "cell_type": "markdown",
   "metadata": {},
   "source": [
    "### 3. Write a code to check if a given string is a palindrome or not"
   ]
  },
  {
   "cell_type": "code",
   "execution_count": 41,
   "metadata": {},
   "outputs": [
    {
     "name": "stdout",
     "output_type": "stream",
     "text": [
      "Given String malayalam is Paloindrome \n"
     ]
    }
   ],
   "source": [
    "s = \"malayalam\"\n",
    "s1 = s[len(s)::-1]\n",
    "s == s1\n",
    "if s==s1:\n",
    "    print(f\"Given String {s} is Paloindrome \")\n",
    "else:\n",
    "    print(f\"Given String {s} is Not Paloindrome \")"
   ]
  },
  {
   "cell_type": "markdown",
   "metadata": {},
   "source": [
    "### 4. Write a code to check if two given string are anagrams of each other"
   ]
  },
  {
   "cell_type": "code",
   "execution_count": 13,
   "metadata": {},
   "outputs": [
    {
     "name": "stdout",
     "output_type": "stream",
     "text": [
      "Given listen and silent are anagrams.\n"
     ]
    }
   ],
   "source": [
    "def check_anagram(s1, s2):\n",
    "    return sorted(s1) == sorted(s2)\n",
    "\n",
    "s1 = \"listen\"\n",
    "s2 = \"silent\"\n",
    "if check_anagram(s1, s2):\n",
    "    print(f\"Given {s1} and {s2} are anagrams.\")\n",
    "else:\n",
    "    print(f\"Given {s1} and {s2} aren't anagrams.\")\n",
    "\n"
   ]
  },
  {
   "cell_type": "markdown",
   "metadata": {},
   "source": [
    "### 5. Write a code to find all occurrences of a given substring within another string. "
   ]
  },
  {
   "cell_type": "code",
   "execution_count": 14,
   "metadata": {},
   "outputs": [
    {
     "name": "stdout",
     "output_type": "stream",
     "text": [
      "The start indices of the substrings are : [4, 7]\n"
     ]
    }
   ],
   "source": [
    "test_str = \"Pravinsingh Korekare\"\n",
    "\n",
    "# initializing substring \n",
    "test_sub = \"in\"\n",
    "\n",
    "index_position = []\n",
    "for i in range(len(test_str)):\n",
    "    if test_str.startswith(test_sub,i):\n",
    "        index_position.append(i)\n",
    "# printing result \n",
    "print(\"The start indices of the substrings are : \" + str(index_position)) \n"
   ]
  },
  {
   "cell_type": "markdown",
   "metadata": {},
   "source": [
    "### 6. Write a code to perform basic string comparession using the counts of repeated characters."
   ]
  },
  {
   "cell_type": "code",
   "execution_count": 15,
   "metadata": {},
   "outputs": [
    {
     "name": "stdout",
     "output_type": "stream",
     "text": [
      "a2b1c5a3\n"
     ]
    }
   ],
   "source": [
    "def compress_string(s):\n",
    "    compressed = []\n",
    "    count = 1\n",
    "\n",
    "    for i in range(1, len(s)):\n",
    "        if s[i] == s[i - 1]:\n",
    "            count += 1\n",
    "        else:\n",
    "            compressed.append(s[i - 1] + str(count))\n",
    "            count = 1\n",
    "\n",
    "    # Append the last character and its count\n",
    "    compressed.append(s[-1] + str(count))\n",
    "\n",
    "    # Construct the final compressed string\n",
    "    result = ''.join(compressed)\n",
    "\n",
    "    # Return the original string if compressed string is not shorter\n",
    "    return result if len(result) < len(s) else s\n",
    "\n",
    "# Example usage\n",
    "input_string = \"aabcccccaaa\"\n",
    "compressed_result = compress_string(input_string)\n",
    "print(compressed_result)  # Output: \"a2b1c5a3\"\n"
   ]
  },
  {
   "cell_type": "markdown",
   "metadata": {},
   "source": [
    "### 7. Write a code to determine if a string has all unique characters"
   ]
  },
  {
   "cell_type": "code",
   "execution_count": 73,
   "metadata": {},
   "outputs": [
    {
     "name": "stdout",
     "output_type": "stream",
     "text": [
      "Given String Pravin has all unique characters\n"
     ]
    }
   ],
   "source": [
    "string = \"Pravin\"\n",
    "set_string = set(string)\n",
    "if len(string)==len(set_string):\n",
    "    print(f\"Given String {string} has all unique characters\")\n",
    "else:\n",
    "    print(f\"Given String Doesn't hava unique character\")"
   ]
  },
  {
   "cell_type": "markdown",
   "metadata": {},
   "source": [
    "### 8. Write a code to convert a given string to uppercase or lowercase"
   ]
  },
  {
   "cell_type": "code",
   "execution_count": 66,
   "metadata": {},
   "outputs": [
    {
     "name": "stdout",
     "output_type": "stream",
     "text": [
      "UpperCase  : PRAVIN \n",
      "LowerCase : pravin\n"
     ]
    }
   ],
   "source": [
    "string = \"Pravin\"\n",
    "print(f\"UpperCase  : {string.upper()} \\nLowerCase : {string.lower()}\")"
   ]
  },
  {
   "cell_type": "markdown",
   "metadata": {},
   "source": [
    "### 9. Write a code to count the number of words in a string."
   ]
  },
  {
   "cell_type": "code",
   "execution_count": 92,
   "metadata": {},
   "outputs": [
    {
     "name": "stdout",
     "output_type": "stream",
     "text": [
      "Number of word is 3\n"
     ]
    }
   ],
   "source": [
    "str = \"Pravin Arun Korekare\"\n",
    "if str.strip() == \"\":\n",
    "    print(f\"Number of word is 0 \")\n",
    "else:\n",
    "    temp = str.split()\n",
    "    print(f\"Number of word is {len(temp)}\")\n"
   ]
  },
  {
   "cell_type": "markdown",
   "metadata": {},
   "source": [
    "### 10. Write  a code to concatenate two strings without using the + operator."
   ]
  },
  {
   "cell_type": "code",
   "execution_count": 95,
   "metadata": {},
   "outputs": [
    {
     "name": "stdout",
     "output_type": "stream",
     "text": [
      "Concatenate String is  Pravin Korekar\n"
     ]
    }
   ],
   "source": [
    "str1 = \"Pravin \"\n",
    "str2 = \"Korekar\"\n",
    "print(\"Concatenate String is \",\"\".join([str1,str2]))"
   ]
  },
  {
   "cell_type": "markdown",
   "metadata": {},
   "source": [
    "### 11. write a code to remove all occurrence of a specific element from a list."
   ]
  },
  {
   "cell_type": "code",
   "execution_count": 100,
   "metadata": {},
   "outputs": [
    {
     "name": "stdout",
     "output_type": "stream",
     "text": [
      "Before list : [1, 2, 3, 4, 5, 6, 7, 8, 9, 10, 3.4, 2, 5, 3, 2, 2]\n",
      "After List : [1, 3, 4, 5, 6, 7, 8, 9, 10, 3.4, 5, 3]\n"
     ]
    }
   ],
   "source": [
    "list1 = [1,2,3,4,5,6,7,8,9,10,3.4,2,5,3,2,2]\n",
    "element = 2\n",
    "list2 = [x for x in list1 if x!=element]\n",
    "print(f\"Before list : {list1}\\nAfter List : {list2}\")"
   ]
  },
  {
   "cell_type": "markdown",
   "metadata": {},
   "source": [
    "### 12. Implement a code to find the sencond largest number in a given list of integers. "
   ]
  },
  {
   "cell_type": "code",
   "execution_count": 121,
   "metadata": {},
   "outputs": [
    {
     "name": "stdout",
     "output_type": "stream",
     "text": [
      "Second Largest element is : 5\n"
     ]
    }
   ],
   "source": [
    "list1 = [2,3,5,1,5,3,5,7,3.3,5,7,7]\n",
    "list2 = list(set(list1))\n",
    "list2.sort()\n",
    "print(f\"Second Largest element is : {list2[-2]}\")"
   ]
  },
  {
   "cell_type": "markdown",
   "metadata": {},
   "source": [
    "### 13. Create a code to count the occurrences of each element in a list and return a dictionary with elements as keys and their conts as value"
   ]
  },
  {
   "cell_type": "code",
   "execution_count": 138,
   "metadata": {},
   "outputs": [
    {
     "name": "stdout",
     "output_type": "stream",
     "text": [
      "{1: 2, 2: 3, 3: 3, 4: 5, 5: 4}\n"
     ]
    }
   ],
   "source": [
    "list1 = [1,1,2,2,2,3,3,3,4,4,4,4,4,5,5,5,5]\n",
    "list2 = list(set(list1))\n",
    "le = len(list1)\n",
    "dict_data = dict()\n",
    "for i in list2:\n",
    "    count = 0\n",
    "    for j in list1:\n",
    "        if i==j:\n",
    "            count += 1\n",
    "    dict_data[i] = count\n",
    "\n",
    "print(dict_data)"
   ]
  },
  {
   "cell_type": "markdown",
   "metadata": {},
   "source": [
    "### 14. Write a code to reverse a list in-place without using any built in reverse functions."
   ]
  },
  {
   "cell_type": "code",
   "execution_count": 142,
   "metadata": {},
   "outputs": [
    {
     "data": {
      "text/plain": [
       "[5, 4, 3, 2, 1]"
      ]
     },
     "execution_count": 142,
     "metadata": {},
     "output_type": "execute_result"
    }
   ],
   "source": [
    "list1 = [1,2,3,4,5]\n",
    "list1[::-1]"
   ]
  },
  {
   "cell_type": "markdown",
   "metadata": {},
   "source": [
    "### 15. Implement a code to find and remove duplicates from a list while preserving the orginal order of elements"
   ]
  },
  {
   "cell_type": "code",
   "execution_count": 146,
   "metadata": {},
   "outputs": [
    {
     "name": "stdout",
     "output_type": "stream",
     "text": [
      "Original List: [1, 2, 3, 4, 2, 2, 3, 4, 5, 6, 21, 1, 5, 6, 4]\n",
      "Update List: [1, 2, 3, 4, 5, 6, 21]\n"
     ]
    }
   ],
   "source": [
    "original_list = [1, 2, 3, 4, 2,2,3,4,5,6,21, 1, 5, 6, 4]\n",
    "print(\"Original List:\", original_list)\n",
    "\n",
    "unique_list = []\n",
    "for x in original_list:\n",
    "\tif x not in unique_list:\n",
    "\t\tunique_list.append(x)\n",
    "print(\"Update List:\", unique_list)"
   ]
  },
  {
   "cell_type": "code",
   "execution_count": 149,
   "metadata": {},
   "outputs": [
    {
     "name": "stdout",
     "output_type": "stream",
     "text": [
      "Original List : [1, 2, 3, 4, 2, 2, 3, 4, 5, 6, 21, 1, 5, 6, 4]\n",
      "Unique List : [1, 2, 3, 4, 5, 6, 21]\n"
     ]
    }
   ],
   "source": [
    "original_list = [1, 2, 3, 4, 2, 2, 3, 4, 5, 6, 21, 1, 5, 6, 4]\n",
    "unique_list = list(set(original_list))\n",
    "print(f\"Original List : {original_list}\\nUnique List : {unique_list}\")"
   ]
  },
  {
   "cell_type": "markdown",
   "metadata": {},
   "source": [
    "### 16. Create a code to check if a given list is sorted (either in ascending or descending order) or not"
   ]
  },
  {
   "cell_type": "code",
   "execution_count": 191,
   "metadata": {},
   "outputs": [
    {
     "name": "stdout",
     "output_type": "stream",
     "text": [
      "Give list : [1, 2, 3, 4, 5] having Ascending Order\n",
      "Give list : [6, 5, 4, 3, 1] having Descending Order\n"
     ]
    }
   ],
   "source": [
    "list1 = [1,2,3,4,5]\n",
    "list2 = [6,5,4,3,1]\n",
    "ascending = all(list1[index]>=list1[index]for index in range(len(list1)))\n",
    "desvending  = all(list2[index]<=list2[index]for index in range(len(list2)))\n",
    "print(f\"Give list : {list1} having Ascending Order\")\n",
    "print(f\"Give list : {list2} having Descending Order\")"
   ]
  },
  {
   "cell_type": "markdown",
   "metadata": {},
   "source": [
    "### 17. Write a code to merge two sorted lists into a single sorted list"
   ]
  },
  {
   "cell_type": "code",
   "execution_count": 195,
   "metadata": {},
   "outputs": [
    {
     "data": {
      "text/plain": [
       "[1, 2, 3, 4, 6, 7, 8]"
      ]
     },
     "execution_count": 195,
     "metadata": {},
     "output_type": "execute_result"
    }
   ],
   "source": [
    "list1 = [1,2,3,4]\n",
    "list2 = [6,7,8]\n",
    "meraged_sorted_list = sorted(list1+list2)\n",
    "meraged_sorted_list"
   ]
  },
  {
   "cell_type": "markdown",
   "metadata": {},
   "source": [
    "### 18. Implement a code to find the intersection of two given lists."
   ]
  },
  {
   "cell_type": "code",
   "execution_count": 204,
   "metadata": {},
   "outputs": [
    {
     "name": "stdout",
     "output_type": "stream",
     "text": [
      "Inseration of Given list is [33, 11, 44, 77, 22]\n"
     ]
    }
   ],
   "source": [
    "list1 = [11,22,33,44,55,66,77]\n",
    "list2 = [33,11,11,44,22,77,88,99,00]\n",
    "\n",
    "print(f\"Inseration of Given list is {list(set(list1) & set(list2))}\")"
   ]
  },
  {
   "cell_type": "markdown",
   "metadata": {},
   "source": [
    "### 19. Create a code to find the union of two lists without duplicates"
   ]
  },
  {
   "cell_type": "code",
   "execution_count": 208,
   "metadata": {},
   "outputs": [
    {
     "name": "stdout",
     "output_type": "stream",
     "text": [
      " Union without contain duplicate element [0, 33, 66, 99, 11, 44, 77, 22, 55, 88]\n"
     ]
    }
   ],
   "source": [
    "list1 = [11,22,33,44,55,66,77]\n",
    "list2 = [33,11,11,44,22,77,88,99,00]\n",
    "\n",
    "print(f\" Union without contain duplicate element {list(set(list1+list2))}\")"
   ]
  },
  {
   "cell_type": "markdown",
   "metadata": {},
   "source": [
    "### 20. Write a code to shuffle a given list randomly without using any built-in shuffle functions."
   ]
  },
  {
   "cell_type": "code",
   "execution_count": 227,
   "metadata": {},
   "outputs": [
    {
     "name": "stdout",
     "output_type": "stream",
     "text": [
      "Shuffle list is : [20, 20, 10, 23, 34, 15, 21]\n"
     ]
    }
   ],
   "source": [
    "import random\n",
    "list1 = [10,15,21,20,23,34,20]\n",
    "list2 = []\n",
    "for i in range(0,len(list1)):\n",
    "    index = random.randrange(len(list1))\n",
    "    list2.append(list1.pop(index))\n",
    "print(f\"Shuffle list is : {list2}\")"
   ]
  },
  {
   "cell_type": "markdown",
   "metadata": {},
   "source": [
    "### 21. Write a code that takes two tuples as input and returns a new tuple containing elements that are common to both input tuples"
   ]
  },
  {
   "cell_type": "code",
   "execution_count": 7,
   "metadata": {},
   "outputs": [
    {
     "name": "stdout",
     "output_type": "stream",
     "text": [
      "(1, 2, 3, 4, 5, 6)\n",
      "(5, 6, 7, 8, 9, 0)\n",
      "These tuple contaion some common element is {5, 6}\n"
     ]
    }
   ],
   "source": [
    "tuple1 = (1,2,3,4,5,6)\n",
    "tuple2 = (5,6,7,8,9,0)\n",
    "\n",
    "print(f\"{tuple1}\\n{tuple2}\\nThese tuple contaion some common element is {set(tuple1) & set(tuple2)}\")"
   ]
  },
  {
   "cell_type": "markdown",
   "metadata": {},
   "source": [
    "### 22. Create a code that prompts the user to enter two sets of integers separated by commas. Then, print the intersection of these two sets."
   ]
  },
  {
   "cell_type": "code",
   "execution_count": 16,
   "metadata": {},
   "outputs": [
    {
     "name": "stdout",
     "output_type": "stream",
     "text": [
      "{1, 2, 3, 4, 5, 6} {3, 5, 6, 7, 8, 9, 11}\n",
      "Set1 is {1, 2, 3, 4, 5, 6} \n",
      "Set2 is {3, 5, 6, 7, 8, 9, 11} \n",
      " The intersection of the two sets is: {3, 5, 6}\n"
     ]
    }
   ],
   "source": [
    "# Prompt the user to enter the first set\n",
    "input_set1 = input(\"Enter the first set of integers (comma-separated): \")\n",
    "set1 = set(map(int, input_set1.split(',')))\n",
    "\n",
    "# Prompt the user to enter the second set\n",
    "input_set2 = input(\"Enter the second set of integers (comma-separated): \")\n",
    "set2 = set(map(int, input_set2.split(',')))\n",
    "\n",
    "# Find the intersection of the two sets\n",
    "intersection_result = set1.intersection(set2)\n",
    "\n",
    "\n",
    "# Print the intersection\n",
    "print(f\"Set1 is {set1} \\nSet2 is {set2} \\nThe intersection of the two sets is: {intersection_result}\")\n"
   ]
  },
  {
   "cell_type": "markdown",
   "metadata": {},
   "source": [
    "### 23. Write a code to concatenate two tuples. The function should take two tuples as input and return a new tuple containing elements from both input tuples."
   ]
  },
  {
   "cell_type": "code",
   "execution_count": 11,
   "metadata": {},
   "outputs": [
    {
     "data": {
      "text/plain": [
       "(6, 7, 8, 4, 5, 1, 2, 3, 4, 5)"
      ]
     },
     "execution_count": 11,
     "metadata": {},
     "output_type": "execute_result"
    }
   ],
   "source": [
    "tuple1 = (1,2,3,4,5)\n",
    "tuple2 = (6,7,8,4,5)\n",
    "\n",
    "def concatenate_tuple(t1,t2):\n",
    "    return t1+t2\n",
    "\n",
    "concatenate_tuple(tuple2,tuple1)"
   ]
  },
  {
   "cell_type": "markdown",
   "metadata": {},
   "source": [
    "### 24. Develop a code that prompts the user to input two sets of strings.then, print the elements that are present in the first set but not in the second set."
   ]
  },
  {
   "cell_type": "code",
   "execution_count": 26,
   "metadata": {},
   "outputs": [
    {
     "name": "stdout",
     "output_type": "stream",
     "text": [
      "{66, 99, 77, 22, 55, 88}\n"
     ]
    }
   ],
   "source": [
    "input_set1 = input(\"Enter the first set of integers (comma-separated): \")\n",
    "set1 = set(map(int, input_set1.split(',')))\n",
    "\n",
    "input_set2 = input(\"Enter the first set of integers (comma-separated): \")\n",
    "set2 = set(map(int, input_set2.split(',')))\n",
    "\n",
    "set3 = set()\n",
    "for i in set1:\n",
    "    if i not in set2:\n",
    "        set3.add(i)\n",
    "    \n",
    "print(set3)"
   ]
  },
  {
   "cell_type": "code",
   "execution_count": 27,
   "metadata": {},
   "outputs": [
    {
     "name": "stdout",
     "output_type": "stream",
     "text": [
      "The elements in the first set but not in the second set are: {1, 2}\n"
     ]
    }
   ],
   "source": [
    "input_set1 = input(\"Enter the first set of integers (comma-separated): \")\n",
    "set1 = set(map(int, input_set1.split(',')))\n",
    "\n",
    "input_set2 = input(\"Enter the first set of integers (comma-separated): \")\n",
    "set2 = set(map(int, input_set2.split(',')))\n",
    "\n",
    "diff_set = set1.difference(set2)\n",
    "print(f\"The elements in the first set but not in the second set are: {diff_set}\")"
   ]
  },
  {
   "cell_type": "markdown",
   "metadata": {},
   "source": [
    "### 25. Create a code that takes a tuple and two integers as input, The function should return a new tuple containing elements from the original tuple within the specified range of indices."
   ]
  },
  {
   "cell_type": "code",
   "execution_count": 18,
   "metadata": {},
   "outputs": [
    {
     "data": {
      "text/plain": [
       "(4, 3, 2, 5, 6)"
      ]
     },
     "execution_count": 18,
     "metadata": {},
     "output_type": "execute_result"
    }
   ],
   "source": [
    "def get_tuple_with_specific_range(t1,start,end):\n",
    "    return t1[start:end]\n",
    "tuple1 = (1,2,3,4,3,2,5,6,7,5,9,4)\n",
    "start = 3\n",
    "end = 8\n",
    "get_tuple_with_specific_range(tuple1,start,end)"
   ]
  },
  {
   "cell_type": "markdown",
   "metadata": {},
   "source": [
    "### 26. Write a code that prompts the user to input two sets of characters.then, print the union of these two sets."
   ]
  },
  {
   "cell_type": "code",
   "execution_count": 19,
   "metadata": {},
   "outputs": [
    {
     "name": "stdout",
     "output_type": "stream",
     "text": [
      "Union Of The Two Sets :  {1, 2, 3, 4, 5, 6, 66, 33, 11, 44, 22, 55}\n"
     ]
    }
   ],
   "source": [
    "set1 = {1,2,3,4,5,6}\n",
    "set2 = {22,11,1,2,3,44,55,33,66}\n",
    "print(\"Union Of The Two Sets : \",set1.union(set2))"
   ]
  },
  {
   "cell_type": "markdown",
   "metadata": {},
   "source": [
    "### 27. Develop a code that takes a tuple of intergers as input.The function should reutn the maximun and  minimum values from the tuple using tuple unpacking. "
   ]
  },
  {
   "cell_type": "code",
   "execution_count": 20,
   "metadata": {},
   "outputs": [
    {
     "name": "stdout",
     "output_type": "stream",
     "text": [
      "Maximum value: 3, Minimum value: 20\n"
     ]
    }
   ],
   "source": [
    "def max_min_tuple(my_tuple):\n",
    "    sorted_tuple = sorted(my_tuple)\n",
    "    return sorted_tuple[0], sorted_tuple[-1]\n",
    "\n",
    "# Example usage:\n",
    "my_tuple = (5, 20, 3, 7, 6, 8)\n",
    "max_val, min_val = max_min_tuple(my_tuple)\n",
    "print(f\"Maximum value: {max_val}, Minimum value: {min_val}\")"
   ]
  },
  {
   "cell_type": "markdown",
   "metadata": {},
   "source": [
    "### 28. Create a code that defines two sets of integers. Then, Print the union, intersection, and difference of these two sets."
   ]
  },
  {
   "cell_type": "code",
   "execution_count": 21,
   "metadata": {},
   "outputs": [
    {
     "name": "stdout",
     "output_type": "stream",
     "text": [
      "Difference :  {1, 2, 3}\n",
      "Union Set : {1, 2, 3, 4, 5, 6, 7, 8, 9}\n",
      "Interasection : {4, 5, 6}\n"
     ]
    }
   ],
   "source": [
    "set1 = {1,2,3,4,5,6}\n",
    "set2 = {4,5,6,7,8,9}\n",
    "\n",
    "print(\"Difference : \",set1.difference(set2))\n",
    "print(f\"Union Set : {set1.union(set2)}\")\n",
    "print(f\"Interasection : {set1.intersection(set2)}\")"
   ]
  },
  {
   "cell_type": "markdown",
   "metadata": {},
   "source": [
    "### 29. Write a code that takes a tuple and an element as input. the function should return the count of occurrences of the give element in the tuple."
   ]
  },
  {
   "cell_type": "code",
   "execution_count": 22,
   "metadata": {},
   "outputs": [
    {
     "name": "stdout",
     "output_type": "stream",
     "text": [
      "The element 10 occurs 3 times.\n"
     ]
    }
   ],
   "source": [
    "def count_occurrences(tup, element):\n",
    "    return tup.count(element)\n",
    "\n",
    "# Example usage:\n",
    "my_tuple = (10, 8, 5, 2, 10, 15, 10, 8, 5, 8, 8, 2)\n",
    "element_to_count = 10\n",
    "result = count_occurrences(my_tuple, element_to_count)\n",
    "print(f\"The element {element_to_count} occurs {result} times.\")\n"
   ]
  },
  {
   "cell_type": "markdown",
   "metadata": {},
   "source": [
    "### 30. Develop a code that prompts the user to input two sets of strings, then, print tes symmertric difference of these two sets."
   ]
  },
  {
   "cell_type": "code",
   "execution_count": 36,
   "metadata": {},
   "outputs": [
    {
     "name": "stdout",
     "output_type": "stream",
     "text": [
      "Symmetric Difference is : {'7', '2', '8', '1', '6'}\n"
     ]
    }
   ],
   "source": [
    "input_str1 = input(\"Enter a set of strings(comma_separated) : \")\n",
    "set1 = set(input_str1.split(\",\"))\n",
    "\n",
    "input_str2 = input(\"Enter a set of strings(comma_separated) : \")\n",
    "set2 = set(input_str2.split(\",\"))\n",
    "\n",
    "print(f\"Symmetric Difference is : {set1.symmetric_difference(set2)}\")\n"
   ]
  },
  {
   "cell_type": "markdown",
   "metadata": {},
   "source": [
    "### 31. Write a code that takes a list of words as input and returns a dictionary where the keys are unique words and the values are the frequenceies of those words in the input list.append"
   ]
  },
  {
   "cell_type": "code",
   "execution_count": 1,
   "metadata": {},
   "outputs": [
    {
     "name": "stdout",
     "output_type": "stream",
     "text": [
      "{'apple': 3, 'banana': 2, 'cherry': 1}\n"
     ]
    }
   ],
   "source": [
    "def word_frequencies(word_list):\n",
    "    frequency_dict = {}\n",
    "    for word in word_list:\n",
    "        frequency_dict[word] = frequency_dict.get(word, 0) + 1\n",
    "    return frequency_dict\n",
    "\n",
    "# Example usage:\n",
    "input_words = [\"apple\", \"banana\", \"apple\", \"cherry\", \"banana\", \"apple\"]\n",
    "result = word_frequencies(input_words)\n",
    "print(result)"
   ]
  },
  {
   "cell_type": "markdown",
   "metadata": {},
   "source": [
    "### 32. Write a code that takes two dictionaries as input and merges them into a single dictionary. If there are common keys, ther values should be added together."
   ]
  },
  {
   "cell_type": "code",
   "execution_count": 2,
   "metadata": {},
   "outputs": [
    {
     "name": "stdout",
     "output_type": "stream",
     "text": [
      "{'apple': 3, 'banana': 3, 'cherry': 1, 'grape': 4}\n"
     ]
    }
   ],
   "source": [
    "# Example usage:\n",
    "dict1 = {'apple': 3, 'banana': 2, 'cherry': 1}\n",
    "dict2 = {'banana': 1, 'grape': 4}\n",
    "\n",
    "merged_dict = dict()\n",
    "merged_dict = dict1.copy()  # Create a copy of the first dictionary\n",
    "for key, value in dict2.items():\n",
    "    if key in merged_dict:\n",
    "        merged_dict[key] += value\n",
    "    else:\n",
    "        merged_dict[key] = value\n",
    "merged_dict\n",
    "\n",
    "print(merged_dict)"
   ]
  },
  {
   "cell_type": "markdown",
   "metadata": {},
   "source": [
    "### 33. Write a code to access a value in a nested dictionary. the function should take the dictionary and a list of keys as input, and return the corresponding value. If any of the keys do not exist in the dictionary, the function should return None."
   ]
  },
  {
   "cell_type": "code",
   "execution_count": 4,
   "metadata": {},
   "outputs": [
    {
     "name": "stdout",
     "output_type": "stream",
     "text": [
      "42\n",
      "None\n"
     ]
    }
   ],
   "source": [
    "def get_nested_value(dictionary, keys):\n",
    "    current = dictionary\n",
    "    for key in keys:\n",
    "        if key in current:\n",
    "            current = current[key]\n",
    "        else:\n",
    "            return None\n",
    "    return current\n",
    "\n",
    "# Example usage:\n",
    "nested_dict = {\n",
    "    'a': {\n",
    "        'b': {\n",
    "            'c': 42\n",
    "        }\n",
    "    }\n",
    "}\n",
    "\n",
    "keys_to_access = ['a', 'b', 'c']\n",
    "result = get_nested_value(nested_dict, keys_to_access)\n",
    "print(result)  # Output: 42\n",
    "\n",
    "# Trying with non-existent key:\n",
    "keys_not_in_dict = ['x', 'y', 'z']\n",
    "result = get_nested_value(nested_dict, keys_not_in_dict)\n",
    "print(result)  # Output: None\n"
   ]
  },
  {
   "cell_type": "markdown",
   "metadata": {},
   "source": [
    "### 34. Write a code that takes a dictionary as input and returns a sorted version of it based on the values. you can choose whether to sort in ascending or descending order."
   ]
  },
  {
   "cell_type": "code",
   "execution_count": 5,
   "metadata": {},
   "outputs": [
    {
     "name": "stdout",
     "output_type": "stream",
     "text": [
      "Sorted by values (ascending): {'one': 1, 'two': 2, 'three': 3, 'four': 4, 'five': 5}\n",
      "Sorted by values (descending): {'five': 5, 'four': 4, 'three': 3, 'two': 2, 'one': 1}\n"
     ]
    }
   ],
   "source": [
    "# Example dictionary\n",
    "my_dict = {'one': 1, 'three': 3, 'five': 5, 'two': 2, 'four': 4}\n",
    "\n",
    "# Sort by values in ascending order\n",
    "sorted_dict_asc = dict(sorted(my_dict.items(), key=lambda item: item[1]))\n",
    "\n",
    "# Sort by values in descending order\n",
    "sorted_dict_desc = dict(sorted(my_dict.items(), key=lambda item: item[1], reverse=True))\n",
    "\n",
    "print(\"Sorted by values (ascending):\", sorted_dict_asc)\n",
    "print(\"Sorted by values (descending):\", sorted_dict_desc)"
   ]
  },
  {
   "cell_type": "markdown",
   "metadata": {},
   "source": [
    "### 35. Write a code that inverts a dictionay swapping keys and values. Ensure that the inverseted dictionay correctly handles cases where multiple keys having the same value by storing the keys as a list in the inverted dictionary."
   ]
  },
  {
   "cell_type": "code",
   "execution_count": 6,
   "metadata": {},
   "outputs": [
    {
     "name": "stdout",
     "output_type": "stream",
     "text": [
      "{1: ['apple', 'cherry'], 2: ['banana', 'grape']}\n"
     ]
    }
   ],
   "source": [
    "def invert_dictionary(original_dict):\n",
    "    inverted_dict = {}\n",
    "    for key, value in original_dict.items():\n",
    "        if value not in inverted_dict:\n",
    "            inverted_dict[value] = [key]\n",
    "        else:\n",
    "            inverted_dict[value].append(key)\n",
    "    return inverted_dict\n",
    "\n",
    "# Example usage:\n",
    "my_dict = {'apple': 1, 'banana': 2, 'cherry': 1, 'grape': 2}\n",
    "inverted_result = invert_dictionary(my_dict)\n",
    "print(inverted_result)"
   ]
  },
  {
   "cell_type": "markdown",
   "metadata": {},
   "source": [
    "## <hr><br><br><br> \"Thank You! For reading assignment.\" <br><br><br><hr>"
   ]
  }
 ],
 "metadata": {
  "kernelspec": {
   "display_name": "Python 3",
   "language": "python",
   "name": "python3"
  },
  "language_info": {
   "codemirror_mode": {
    "name": "ipython",
    "version": 3
   },
   "file_extension": ".py",
   "mimetype": "text/x-python",
   "name": "python",
   "nbconvert_exporter": "python",
   "pygments_lexer": "ipython3",
   "version": "3.11.1"
  }
 },
 "nbformat": 4,
 "nbformat_minor": 2
}
