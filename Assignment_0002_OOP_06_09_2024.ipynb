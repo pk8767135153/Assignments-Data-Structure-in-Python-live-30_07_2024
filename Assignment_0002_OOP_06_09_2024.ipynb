{
 "cells": [
  {
   "cell_type": "markdown",
   "metadata": {},
   "source": [
    "### 1. What are the five key concepts of Object-Oriented Programming (OOP)?\n",
    "\n",
    "The five key concepts of Object-Oriented Programming (OOP) are:\n",
    "\n",
    "1. **Encapsulation**: This concept involves bundling the data (attributes) and methods (functions) that operate on the data into a single unit called a class. It also restricts direct access to some of the object's components, which is a means of preventing accidental interference and misuse of the data.\n",
    "\n",
    "2. **Abstraction**: Abstraction means hiding the complex implementation details and showing only the essential features of the object. It helps in reducing programming complexity and effort by providing a clear and simple interface.\n",
    "\n",
    "3. **Inheritance**: Inheritance allows a new class to inherit the properties and methods of an existing class. This promotes code reusability and establishes a natural hierarchy between classes. The new class, known as a subclass, can also have additional properties and methods or override the inherited ones.\n",
    "\n",
    "4. **Polymorphism**: Polymorphism allows objects to be treated as instances of their parent class rather than their actual class. The most common use of polymorphism is when a parent class reference is used to refer to a child class object. It allows one interface to be used for a general class of actions, making it easier to add new functionalities.\n",
    "\n",
    "5. **Classes and Objects**: A class is a blueprint for creating objects (a particular data structure), providing initial values for state (member variables or attributes), and implementations of behavior (member functions or methods). An object is an instance of a class. When a class is defined, no memory is allocated until an object of that class is created¹²³."
   ]
  },
  {
   "cell_type": "markdown",
   "metadata": {},
   "source": [
    "### 2. Write a Python class for a `Car` with attributes for `make`, `model`, and `year`. Include a method to display the car's information."
   ]
  },
  {
   "cell_type": "code",
   "execution_count": 1,
   "metadata": {},
   "outputs": [
    {
     "name": "stdout",
     "output_type": "stream",
     "text": [
      "Car Information: 2020 Toyota Corolla\n"
     ]
    }
   ],
   "source": [
    "class Car:\n",
    "    def __init__(self, make, model, year):\n",
    "        self.make = make\n",
    "        self.model = model\n",
    "        self.year = year\n",
    "\n",
    "    def display_info(self):\n",
    "        print(f\"Car Information: {self.year} {self.make} {self.model}\")\n",
    "\n",
    "# Example usage:\n",
    "my_car = Car(\"Toyota\", \"Corolla\", 2020)\n",
    "my_car.display_info()"
   ]
  },
  {
   "cell_type": "markdown",
   "metadata": {},
   "source": [
    "### 3. Explain the difference between instance methods and class methods. Provide an example of each\n",
    "\n",
    "* Instance Methods:\n",
    "Definition: These methods are associated with an instance of the class. They can access and modify the instance’s attributes.<br><br>\n",
    "Syntax: They take self as the first parameter, which refers to the instance calling the method.<br><br>\n",
    "Use Case: Instance methods are used to perform operations that depend on the instance’s data.<br><br>\n",
    "<br><br>\n",
    "* Class Methods:<br><br>\n",
    "Definition: These methods are bound to the class and not the instance. They can modify class state that applies across all instances of the class.<br><br>\n",
    "Syntax: They take cls as the first parameter, which refers to the class itself. They are defined using the @classmethod decorator.<br><br>\n",
    "Use Case: Class methods are used for operations that need to access or modify the class state.<br><br>"
   ]
  },
  {
   "cell_type": "code",
   "execution_count": 3,
   "metadata": {},
   "outputs": [
    {
     "name": "stdout",
     "output_type": "stream",
     "text": [
      "Car Information: 2020 Toyota Corolla\n",
      "Total number of cars: 2\n"
     ]
    }
   ],
   "source": [
    "class Car:\n",
    "    def __init__(self, make, model, year):\n",
    "        self.make = make\n",
    "        self.model = model\n",
    "        self.year = year\n",
    "\n",
    "    def display_info(self):\n",
    "        print(f\"Car Information: {self.year} {self.make} {self.model}\")\n",
    "\n",
    "# Creating an instance of Car\n",
    "my_car = Car(\"Toyota\", \"Corolla\", 2020)\n",
    "my_car.display_info()  # Output: Car Information: 2020 Toyota Corolla\n",
    "\n",
    "class Car:\n",
    "    total_cars = 0\n",
    "\n",
    "    def __init__(self, make, model, year):\n",
    "        self.make = make\n",
    "        self.model = model\n",
    "        self.year = year\n",
    "        Car.total_cars += 1\n",
    "\n",
    "    @classmethod\n",
    "    def display_total_cars(cls):\n",
    "        print(f\"Total number of cars: {cls.total_cars}\")\n",
    "\n",
    "# Creating instances of Car\n",
    "car1 = Car(\"Toyota\", \"Corolla\", 2020)\n",
    "car2 = Car(\"Honda\", \"Civic\", 2021)\n",
    "\n",
    "Car.display_total_cars()  # Output: Total number of cars: 2\n"
   ]
  },
  {
   "cell_type": "markdown",
   "metadata": {},
   "source": [
    "### 4. How does Python implement method overloading? Give an example."
   ]
  },
  {
   "cell_type": "code",
   "execution_count": 7,
   "metadata": {},
   "outputs": [
    {
     "name": "stdout",
     "output_type": "stream",
     "text": [
      "5\n",
      "15\n",
      "30\n",
      "5\n",
      "15\n",
      "30\n"
     ]
    }
   ],
   "source": [
    "class MathOperations:\n",
    "    def add(self, a, b=0, c=0):\n",
    "        return a + b + c\n",
    "\n",
    "# Example usage:\n",
    "math_ops = MathOperations()\n",
    "print(math_ops.add(5))        # Output: 5\n",
    "print(math_ops.add(5, 10))    # Output: 15\n",
    "print(math_ops.add(5, 10, 15)) # Output: 30\n",
    "\n",
    "# Using Variable Length Arguments\n",
    "\n",
    "class MathOperations:\n",
    "    def add(self, *args):\n",
    "        return sum(args)\n",
    "\n",
    "# Example usage:\n",
    "math_ops = MathOperations()\n",
    "print(math_ops.add(5))        # Output: 5\n",
    "print(math_ops.add(5, 10))    # Output: 15\n",
    "print(math_ops.add(5, 10, 15)) # Output: 30"
   ]
  },
  {
   "cell_type": "markdown",
   "metadata": {},
   "source": [
    "### 5. What are the three types of access modifiers in Python? How are they denoted\n",
    "\n"
   ]
  },
  {
   "cell_type": "code",
   "execution_count": 8,
   "metadata": {},
   "outputs": [
    {
     "name": "stdout",
     "output_type": "stream",
     "text": [
      "Toyota\n",
      "Car Information: 2020 Toyota Corolla\n",
      "Car Information: 2022 Tesla Model S\n",
      "Car Information: 2020 Toyota Corolla\n"
     ]
    }
   ],
   "source": [
    "# Public :  Public members are accessible from anywhere, both inside and outside the class\n",
    "class Car:\n",
    "    def __init__(self, make, model, year):\n",
    "        self.make = make  # Public attribute\n",
    "        self.model = model  # Public attribute\n",
    "        self.year = year  # Public attribute\n",
    "\n",
    "    def display_info(self):  # Public method\n",
    "        print(f\"Car Information: {self.year} {self.make} {self.model}\")\n",
    "\n",
    "my_car = Car(\"Toyota\", \"Corolla\", 2020)\n",
    "print(my_car.make)  # Accessible\n",
    "my_car.display_info()  # Accessible\n",
    "\n",
    "# -------------------------------------------------------------------------#\n",
    "\n",
    "# Protected : Protected members are accessible within the class and its subclasses\n",
    "class Car:\n",
    "    def __init__(self, make, model, year):\n",
    "        self._make = make  # Protected attribute\n",
    "        self._model = model  # Protected attribute\n",
    "        self._year = year  # Protected attribute\n",
    "\n",
    "    def _display_info(self):  # Protected method\n",
    "        print(f\"Car Information: {self._year} {self._make} {self._model}\")\n",
    "\n",
    "class ElectricCar(Car):\n",
    "    def display_info(self):\n",
    "        self._display_info()  # Accessible in subclass\n",
    "\n",
    "my_car = ElectricCar(\"Tesla\", \"Model S\", 2022)\n",
    "my_car.display_info()  # Accessible\n",
    "\n",
    "# -------------------------------------------------------------------------#\n",
    "\n",
    "# Private :  Private members are accessible only within the class they are defined in. They are not accessible outside the class or in subclasses.\n",
    "class Car:\n",
    "    def __init__(self, make, model, year):\n",
    "        self.__make = make  # Private attribute\n",
    "        self.__model = model  # Private attribute\n",
    "        self.__year = year  # Private attribute\n",
    "\n",
    "    def __display_info(self):  # Private method\n",
    "        print(f\"Car Information: {self.__year} {self.__make} {self.__model}\")\n",
    "\n",
    "    def get_info(self):  # Public method to access private members\n",
    "        self.__display_info()\n",
    "\n",
    "my_car = Car(\"Toyota\", \"Corolla\", 2020)\n",
    "my_car.get_info()  # Accessible\n",
    "# print(my_car.__make)  # Not accessible, will raise an AttributeError\n"
   ]
  },
  {
   "cell_type": "markdown",
   "metadata": {},
   "source": [
    "### 6. Describe the five types of inheritance in Python. Provide a simple example of multiple inheritance."
   ]
  },
  {
   "cell_type": "code",
   "execution_count": 1,
   "metadata": {},
   "outputs": [
    {
     "name": "stdout",
     "output_type": "stream",
     "text": [
      "This function is in the parent class.\n",
      "This function is in the child class.\n"
     ]
    }
   ],
   "source": [
    "# Single Inheritance: A derived class inherits from a single base class.\n",
    "class Parent:\n",
    "    def func1(self):\n",
    "        print(\"This function is in the parent class.\")\n",
    "\n",
    "class Child(Parent):\n",
    "    def func2(self):\n",
    "        print(\"This function is in the child class.\")\n",
    "\n",
    "obj = Child()\n",
    "obj.func1()\n",
    "obj.func2()"
   ]
  },
  {
   "cell_type": "code",
   "execution_count": null,
   "metadata": {},
   "outputs": [],
   "source": [
    "# Multiple Inheritance: A derived class inherits from more than one base class.\n",
    "class Mother:\n",
    "    def mother_info(self):\n",
    "        print(\"Mother class\")\n",
    "\n",
    "class Father:\n",
    "    def father_info(self):\n",
    "        print(\"Father class\")\n",
    "\n",
    "class Child(Mother, Father):\n",
    "    def child_info(self):\n",
    "        print(\"Child class\")\n",
    "\n",
    "obj = Child()\n",
    "obj.mother_info()\n",
    "obj.father_info()\n",
    "obj.child_info()"
   ]
  },
  {
   "cell_type": "code",
   "execution_count": 2,
   "metadata": {},
   "outputs": [
    {
     "name": "stdout",
     "output_type": "stream",
     "text": [
      "This function is in the grandparent class.\n",
      "This function is in the parent class.\n",
      "This function is in the child class.\n"
     ]
    }
   ],
   "source": [
    "# Multilevel Inheritance: A derived class inherits from another derived class\n",
    "class Grandparent:\n",
    "    def func1(self):\n",
    "        print(\"This function is in the grandparent class.\")\n",
    "\n",
    "class Parent(Grandparent):\n",
    "    def func2(self):\n",
    "        print(\"This function is in the parent class.\")\n",
    "\n",
    "class Child(Parent):\n",
    "    def func3(self):\n",
    "        print(\"This function is in the child class.\")\n",
    "\n",
    "obj = Child()\n",
    "obj.func1()\n",
    "obj.func2()\n",
    "obj.func3()"
   ]
  },
  {
   "cell_type": "code",
   "execution_count": null,
   "metadata": {},
   "outputs": [],
   "source": [
    "# Hierarchical Inheritance: Multiple derived classes inherit from a single base class.\n",
    "class Parent:\n",
    "    def func1(self):\n",
    "        print(\"This function is in the parent class.\")\n",
    "\n",
    "class Child1(Parent):\n",
    "    def func2(self):\n",
    "        print(\"This function is in the first child class.\")\n",
    "\n",
    "class Child2(Parent):\n",
    "    def func3(self):\n",
    "        print(\"This function is in the second child class.\")\n",
    "\n",
    "obj1 = Child1()\n",
    "obj2 = Child2()\n",
    "obj1.func1()\n",
    "obj1.func2()\n",
    "obj2.func1()\n",
    "obj2.func3()\n"
   ]
  },
  {
   "cell_type": "code",
   "execution_count": null,
   "metadata": {},
   "outputs": [],
   "source": [
    "# Hybrid Inheritance: A combination of two or more types of inheritance.\n",
    "class Base1:\n",
    "    def func1(self):\n",
    "        print(\"This function is in Base1.\")\n",
    "\n",
    "class Base2:\n",
    "    def func2(self):\n",
    "        print(\"This function is in Base2.\")\n",
    "\n",
    "class Derived1(Base1, Base2):\n",
    "    def func3(self):\n",
    "        print(\"This function is in Derived1.\")\n",
    "\n",
    "class Derived2(Derived1):\n",
    "    def func4(self):\n",
    "        print(\"This function is in Derived2.\")\n",
    "\n",
    "obj = Derived2()\n",
    "obj.func1()\n",
    "obj.func2()\n",
    "obj.func3()\n",
    "obj.func4()\n"
   ]
  },
  {
   "cell_type": "markdown",
   "metadata": {},
   "source": [
    "### 7.  What is the Method Resolution Order (MRO) in Python? How can you retrieve it programmatically?"
   ]
  },
  {
   "cell_type": "markdown",
   "metadata": {},
   "source": [
    "The Method Resolution Order (MRO) in Python is the order in which base classes are searched when executing a method. This is especially important in the context of multiple inheritance, where a class can inherit from multiple parent classes. Python uses the C3 linearization algorithm (also known as C3 superclass linearization) to determine the MRO.\n",
    "<br><br>\n",
    "Key Points about MRO:<br><br>\n",
    "Single Inheritance: The MRO is straightforward; it follows the inheritance chain from the derived class to the base class.<br><br>\n",
    "Multiple Inheritance: The MRO ensures that a consistent order is maintained, avoiding conflicts and ensuring that each class is only called once."
   ]
  },
  {
   "cell_type": "code",
   "execution_count": 4,
   "metadata": {},
   "outputs": [
    {
     "name": "stdout",
     "output_type": "stream",
     "text": [
      "B method\n"
     ]
    }
   ],
   "source": [
    "class A:\n",
    "    def method(self):\n",
    "        print(\"A method\")\n",
    "\n",
    "class B(A):\n",
    "    def method(self):\n",
    "        print(\"B method\")\n",
    "\n",
    "class C(A):\n",
    "    def method(self):\n",
    "        print(\"C method\")\n",
    "\n",
    "class D(B, C):\n",
    "    pass\n",
    "\n",
    "d = D()\n",
    "d.method()\n"
   ]
  },
  {
   "cell_type": "markdown",
   "metadata": {},
   "source": [
    "### 8. Create an abstract base class `Shape` with an abstract method `area()`. Then create two subclasses `Circle` and `Rectangle` that implement the `area()` method"
   ]
  },
  {
   "cell_type": "code",
   "execution_count": 5,
   "metadata": {},
   "outputs": [
    {
     "name": "stdout",
     "output_type": "stream",
     "text": [
      "Area of the circle: 78.53981633974483\n",
      "Area of the rectangle: 24\n"
     ]
    }
   ],
   "source": [
    "\n",
    "from abc import ABC, abstractmethod\n",
    "\n",
    "class Shape(ABC):\n",
    "    @abstractmethod\n",
    "    def area(self):\n",
    "        pass\n",
    "\n",
    "import math\n",
    "\n",
    "class Circle(Shape):\n",
    "    def __init__(self, radius):\n",
    "        self.radius = radius\n",
    "\n",
    "    def area(self):\n",
    "        return math.pi * self.radius ** 2\n",
    "\n",
    "class Rectangle(Shape):\n",
    "    def __init__(self, width, height):\n",
    "        self.width = width\n",
    "        self.height = height\n",
    "\n",
    "    def area(self):\n",
    "        return self.width * self.height\n",
    "\n",
    "\n",
    "# Create instances of Circle and Rectangle\n",
    "circle = Circle(5)\n",
    "rectangle = Rectangle(4, 6)\n",
    "\n",
    "print(f\"Area of the circle: {circle.area()}\")\n",
    "print(f\"Area of the rectangle: {rectangle.area()}\")\n"
   ]
  },
  {
   "cell_type": "markdown",
   "metadata": {},
   "source": [
    "### 9. Demonstrate polymorphism by creating a function that can work with different shape objects to calculate and print their areas"
   ]
  },
  {
   "cell_type": "markdown",
   "metadata": {},
   "source": [
    "Polymorphism allows us to define methods in a base class and override them in derived classes. This enables us to use a single interface to interact with objects of different classes. Here's how you can demonstrate polymorphism with the `Shape`, `Circle`, and `Rectangle` classes we defined earlier:\n",
    "\n",
    "* Polymorphic Function<br><br>\n",
    "We'll create a function `print_area()` that takes a `Shape` object and prints its area. This function will work with any object that is a subclass of `Shape` and implements the `area()` method."
   ]
  },
  {
   "cell_type": "code",
   "execution_count": 6,
   "metadata": {},
   "outputs": [
    {
     "name": "stdout",
     "output_type": "stream",
     "text": [
      "The area is: 78.53981633974483\n",
      "The area is: 24\n"
     ]
    }
   ],
   "source": [
    "from abc import ABC, abstractmethod\n",
    "import math\n",
    "\n",
    "class Shape(ABC):\n",
    "    @abstractmethod\n",
    "    def area(self):\n",
    "        pass\n",
    "\n",
    "class Circle(Shape):\n",
    "    def __init__(self, radius):\n",
    "        self.radius = radius\n",
    "\n",
    "    def area(self):\n",
    "        return math.pi * self.radius ** 2\n",
    "\n",
    "class Rectangle(Shape):\n",
    "    def __init__(self, width, height):\n",
    "        self.width = width\n",
    "        self.height = height\n",
    "\n",
    "    def area(self):\n",
    "        return self.width * self.height\n",
    "\n",
    "def print_area(shape):\n",
    "    print(f\"The area is: {shape.area()}\")\n",
    "\n",
    "# Create instances of Circle and Rectangle\n",
    "circle = Circle(5)\n",
    "rectangle = Rectangle(4, 6)\n",
    "\n",
    "# Use the polymorphic function to print areas\n",
    "print_area(circle)\n",
    "print_area(rectangle)"
   ]
  },
  {
   "cell_type": "markdown",
   "metadata": {},
   "source": [
    "### 10. Implement encapsulation in a `BankAccount` class with private attributes for `balance` and `account_number`. Include methods for deposit, withdrawal, and balance inquiry"
   ]
  },
  {
   "cell_type": "code",
   "execution_count": 9,
   "metadata": {},
   "outputs": [
    {
     "name": "stdout",
     "output_type": "stream",
     "text": [
      "Deposited 500. New balance is 1500.\n",
      "Withdrew 200. New balance is 1300.\n",
      "Current balance: 1300\n",
      "Account number: 123456789\n"
     ]
    }
   ],
   "source": [
    "class BankAccount:\n",
    "    def __init__(self, account_number, initial_balance=0):\n",
    "        self.__account_number = account_number\n",
    "        self.__balance = initial_balance\n",
    "\n",
    "    def deposit(self, amount):\n",
    "        if amount > 0:\n",
    "            self.__balance += amount\n",
    "            print(f\"Deposited {amount}. New balance is {self.__balance}.\")\n",
    "        else:\n",
    "            print(\"Deposit amount must be positive.\")\n",
    "\n",
    "    def withdraw(self, amount):\n",
    "        if 0 < amount <= self.__balance:\n",
    "            self.__balance -= amount\n",
    "            print(f\"Withdrew {amount}. New balance is {self.__balance}.\")\n",
    "        else:\n",
    "            print(\"Insufficient balance or invalid amount.\")\n",
    "\n",
    "    def get_balance(self):\n",
    "        return self.__balance\n",
    "\n",
    "    def get_account_number(self):\n",
    "        return self.__account_number\n",
    "\n",
    "\n",
    "# Create a new bank account with an initial balance\n",
    "account = BankAccount(\"123456789\", 1000)\n",
    "\n",
    "# Deposit money\n",
    "account.deposit(500)\n",
    "\n",
    "# Withdraw money\n",
    "account.withdraw(200)\n",
    "\n",
    "# Check balance\n",
    "print(f\"Current balance: {account.get_balance()}\")\n",
    "\n",
    "# Get account number\n",
    "print(f\"Account number: {account.get_account_number()}\")\n"
   ]
  },
  {
   "cell_type": "markdown",
   "metadata": {},
   "source": [
    "### 11. Write a class that overrides the `__str__` and `__add__` magic methods. What will these methods allow you to do?\n",
    "Overriding the _ _str_ _ and _ _add_ _ magic methods in a class allows you to customize the string representation of objects and define how objects of the class should be added together, respectively.<br>\n",
    "_ _str_ _: Provides a readable and meaningful string representation of the object, which is useful for debugging and logging.\n",
    "_ _add_ _: Allows you to define custom behavior for the addition operator, enabling intuitive and meaningful operations between objects of your class."
   ]
  },
  {
   "cell_type": "code",
   "execution_count": 10,
   "metadata": {},
   "outputs": [
    {
     "name": "stdout",
     "output_type": "stream",
     "text": [
      "'1984' by George Orwell, 328 pages\n",
      "'Brave New World' by Aldous Huxley, 288 pages\n",
      "Total pages: 616\n"
     ]
    }
   ],
   "source": [
    "class Book:\n",
    "    def __init__(self, title, author, pages):\n",
    "        self.title = title\n",
    "        self.author = author\n",
    "        self.pages = pages\n",
    "\n",
    "    def __str__(self):\n",
    "        return f\"'{self.title}' by {self.author}, {self.pages} pages\"\n",
    "\n",
    "    def __add__(self, other):\n",
    "        if isinstance(other, Book):\n",
    "            return self.pages + other.pages\n",
    "        return NotImplemented\n",
    "\n",
    "# Example usage\n",
    "book1 = Book(\"1984\", \"George Orwell\", 328)\n",
    "book2 = Book(\"Brave New World\", \"Aldous Huxley\", 288)\n",
    "\n",
    "print(book1)  # Output: '1984' by George Orwell, 328 pages\n",
    "print(book2)  # Output: 'Brave New World' by Aldous Huxley, 288 pages\n",
    "\n",
    "total_pages = book1 + book2\n",
    "print(f\"Total pages: {total_pages}\")  # Output: Total pages: 616\n",
    "\n",
    "\n",
    "# __str__ Method:\n",
    "# The __str__ method is used to define a user-friendly string representation of an object. When you use print() or str() on an object, Python calls this method.\n",
    "# In the Book class, __str__ returns a formatted string with the book’s title, author, and number of pages.\n",
    "# __add__ Method:\n",
    "# The __add__ method is used to define the behavior of the addition operator (+) for objects of the class.\n",
    "# In the Book class, __add__ checks if the other object is also an instance of Book. If so, it returns the sum of the pages of both books. If not, it returns NotImplemented."
   ]
  },
  {
   "cell_type": "markdown",
   "metadata": {},
   "source": [
    "### 12. Create a decorator that measures and prints the execution time of a function."
   ]
  },
  {
   "cell_type": "code",
   "execution_count": 12,
   "metadata": {},
   "outputs": [],
   "source": [
    "import time\n",
    "from functools import wraps\n",
    "\n",
    "def timeit(func):\n",
    "    @wraps(func)\n",
    "    def timeit_wrapper(*args, **kwargs):\n",
    "        start_time = time.perf_counter()\n",
    "        result = func(*args, **kwargs)\n",
    "        end_time = time.perf_counter()\n",
    "        total_time = end_time - start_time\n",
    "        print(f\"Function {func.__name__} took {total_time:.4f} seconds\")\n",
    "        return result\n",
    "    return timeit_wrapper"
   ]
  },
  {
   "cell_type": "code",
   "execution_count": 13,
   "metadata": {},
   "outputs": [
    {
     "name": "stdout",
     "output_type": "stream",
     "text": [
      "Function example_function took 0.0388 seconds\n"
     ]
    },
    {
     "data": {
      "text/plain": [
       "499999500000"
      ]
     },
     "execution_count": 13,
     "metadata": {},
     "output_type": "execute_result"
    }
   ],
   "source": [
    "@timeit\n",
    "def example_function(n):\n",
    "    total = 0\n",
    "    for i in range(n):\n",
    "        total += i\n",
    "    return total\n",
    "\n",
    "# Call the decorated function\n",
    "example_function(1000000)"
   ]
  },
  {
   "cell_type": "markdown",
   "metadata": {},
   "source": [
    "\n",
    "Creating a decorator to measure and print the execution time of a function is a great way to understand how decorators work and to profile your code. Here's how you can do it:\n",
    "<br><br> Explanation\n",
    "\n",
    "1. Importing Modules: We import the `time` module to measure the execution time and `wraps` from `functools` to preserve the original function's metadata.\n",
    "2. Decorator Function `timeit`: \n",
    "   - The `timeit` function takes another function `func` as an argument.\n",
    "   - Inside `timeit`, we define a `timeit_wrapper` function that wraps the original function `func`.\n",
    "   - `timeit_wrapper` records the start time before calling `func` and the end time after `func` completes.\n",
    "   - It calculates the total execution time and prints it.\n",
    "   - Finally, it returns the result of the original function `func`.\n",
    "3. Using the Decorator: \n",
    "   - We use the `@timeit` syntax to apply the decorator to `example_function`.\n",
    "   - When `example_function` is called, the `timeit_wrapper` function is executed, measuring and printing the execution time.\n",
    "\n",
    "This decorator can be applied to any function to measure its execution time, making it a versatile tool for performance profiling."
   ]
  },
  {
   "cell_type": "markdown",
   "metadata": {},
   "source": [
    "### 13. Explain the concept of the Diamond Problem in multiple inheritance. How does Python resolve it"
   ]
  },
  {
   "cell_type": "code",
   "execution_count": 15,
   "metadata": {},
   "outputs": [
    {
     "name": "stdout",
     "output_type": "stream",
     "text": [
      "(<class '__main__.D'>, <class '__main__.B'>, <class '__main__.C'>, <class '__main__.A'>, <class 'object'>)\n",
      "[<class '__main__.D'>, <class '__main__.B'>, <class '__main__.C'>, <class '__main__.A'>, <class 'object'>]\n"
     ]
    }
   ],
   "source": [
    "class A:\n",
    "    def method(self):\n",
    "        print(\"Method in A\")\n",
    "\n",
    "class B(A):\n",
    "    def method(self):\n",
    "        print(\"Method in B\")\n",
    "\n",
    "class C(A):\n",
    "    def method(self):\n",
    "        print(\"Method in C\")\n",
    "\n",
    "class D(B, C):\n",
    "    pass\n",
    "\n",
    "\n",
    "# Here, `D` inherits from both `B` and `C`, which in turn inherit from `A`. The diamond shape is formed because `D` has two paths to `A` (through `B` and `C`). When you create an instance of `D` and call `method()`, Python needs to decide which `method()` to execute: the one in `B`, `C`, or `A`.\n",
    "\n",
    "\n",
    "print(D.__mro__)\n",
    "# or\n",
    "print(D.mro())"
   ]
  },
  {
   "cell_type": "markdown",
   "metadata": {},
   "source": [
    "The **Diamond Problem** is a common issue in multiple inheritance scenarios where a class inherits from two or more classes that have a common base class. This creates a diamond-shaped inheritance hierarchy, leading to ambiguity in method resolution.\n",
    "\n",
    "### Method Resolution Order (MRO)\n",
    "\n",
    "Python resolves the Diamond Problem using the **Method Resolution Order (MRO)**, which is determined by the C3 linearization algorithm. The MRO ensures a consistent and predictable order for method lookup, avoiding ambiguity\n",
    " \n",
    "\n",
    "This means that Python will look for the `method()` in the following order:\n",
    "1. `D`\n",
    "2. `B`\n",
    "3. `C`\n",
    "4. `A`\n",
    "5. `object`\n",
    "\n",
    "### Example\n",
    "\n",
    "```python\n",
    "d = D()\n",
    "d.method()\n",
    "```\n",
    "\n",
    "In this case, the output will be:\n",
    "\n",
    "```\n",
    "Method in B\n",
    "```\n",
    "\n",
    "This is because `B` appears before `C` in the MRO of `D`. "
   ]
  },
  {
   "cell_type": "markdown",
   "metadata": {},
   "source": [
    "### 14. Write a class method that keeps track of the number of instances created from a class."
   ]
  },
  {
   "cell_type": "code",
   "execution_count": 20,
   "metadata": {},
   "outputs": [
    {
     "name": "stdout",
     "output_type": "stream",
     "text": [
      "Number of instances created: 3\n"
     ]
    }
   ],
   "source": [
    "class InstanceCounter:\n",
    "    instance_count = 0  # Class variable to keep track of the number of instances\n",
    "\n",
    "    def __init__(self):\n",
    "        InstanceCounter.instance_count += 1\n",
    "\n",
    "    @classmethod\n",
    "    def get_instance_count(cls):\n",
    "        return cls.instance_count\n",
    "\n",
    "# Example usage\n",
    "obj1 = InstanceCounter()\n",
    "obj2 = InstanceCounter()\n",
    "obj3 = InstanceCounter()\n",
    "\n",
    "print(f\"Number of instances created: {InstanceCounter.get_instance_count()}\")\n"
   ]
  },
  {
   "cell_type": "markdown",
   "metadata": {},
   "source": [
    "\n",
    "### 15.  Implement a static method in a class that checks if a given year is a leap year"
   ]
  },
  {
   "cell_type": "code",
   "execution_count": 21,
   "metadata": {},
   "outputs": [
    {
     "name": "stdout",
     "output_type": "stream",
     "text": [
      "True\n",
      "False\n"
     ]
    }
   ],
   "source": [
    "class YearUtils:\n",
    "    @staticmethod\n",
    "    def is_leap_year(year):\n",
    "        if (year % 4 == 0 and year % 100 != 0) or (year % 400 == 0):\n",
    "            return True\n",
    "        return False\n",
    "\n",
    "# Example usage\n",
    "print(YearUtils.is_leap_year(2024))  # Output: True\n",
    "print(YearUtils.is_leap_year(2023))  # Output: False\n"
   ]
  }
 ],
 "metadata": {
  "kernelspec": {
   "display_name": "Python 3",
   "language": "python",
   "name": "python3"
  },
  "language_info": {
   "codemirror_mode": {
    "name": "ipython",
    "version": 3
   },
   "file_extension": ".py",
   "mimetype": "text/x-python",
   "name": "python",
   "nbconvert_exporter": "python",
   "pygments_lexer": "ipython3",
   "version": "3.11.1"
  }
 },
 "nbformat": 4,
 "nbformat_minor": 2
}
